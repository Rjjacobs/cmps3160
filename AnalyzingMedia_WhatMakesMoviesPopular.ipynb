{
  "nbformat": 4,
  "nbformat_minor": 0,
  "metadata": {
    "colab": {
      "provenance": [],
      "include_colab_link": true
    },
    "kernelspec": {
      "name": "python3",
      "display_name": "Python 3"
    },
    "language_info": {
      "name": "python"
    }
  },
  "cells": [
    {
      "cell_type": "markdown",
      "metadata": {
        "id": "view-in-github",
        "colab_type": "text"
      },
      "source": [
        "<a href=\"https://colab.research.google.com/github/Rjjacobs/cmps3160/blob/master/AnalyzingMedia_WhatMakesMoviesPopular.ipynb\" target=\"_parent\"><img src=\"https://colab.research.google.com/assets/colab-badge.svg\" alt=\"Open In Colab\"/></a>"
      ]
    },
    {
      "cell_type": "markdown",
      "source": [
        "# Title: Analyzing Media: What Makes Movies Popular?"
      ],
      "metadata": {
        "id": "y0IeOX58fwGu"
      }
    },
    {
      "cell_type": "markdown",
      "source": [
        "Group Name: Rebecca Silberman and Raynah Jacobs"
      ],
      "metadata": {
        "id": "vqUDn2Ltf3w1"
      }
    },
    {
      "cell_type": "markdown",
      "source": [
        "Website Link: INPUT\n",
        "\n",
        "how to: download notebook, convert it to an html, set up github.io, put html on github.io, go back to notebook aand add link to the webpage"
      ],
      "metadata": {
        "id": "sfHRBL25MJfI"
      }
    },
    {
      "cell_type": "markdown",
      "source": [
        "**Project Goal:** As we are both fascinated by media, we want to investigate what makes movies popular. Our goal is to investigate the factors, such as budget, running time, and genre, that contribute to a movie's success in the box office as ticket sales. Through identityfing patterns in the IMDb scores, Oscars and Golden Globe Nominations, Oscars and Golden Globe Awards, budget, genre, and running time, we will determine which elements have an impact on a film's popularity. Ultimately, this analysis will help us understand which factors consistently lead ot box office success."
      ],
      "metadata": {
        "id": "oj02tX0JgnFU"
      }
    },
    {
      "cell_type": "markdown",
      "source": [
        "**Description of Dataset:** Our dataset comes from Kaggle.com. The dataset we chose is titled, Movies (IMDb, Earnings and more). This dataset includes the rows: movie (name of film), director (film director), running time (length of time in minutes of movie), actor 1, actor 2, actor 3, genre (category of film), budget (money spent on making the movie and its publicity), box office (money from ticket sales), actors box office % (percentage that reflects how many times the actors managed to at least double the budget in their other films movies), director box office % (percentage that reflects how many times the director managed to at least double the budget in their other films movies), earnings (difference between box office and budget), oscars and golden globe nominations (amount of nominations that the movie has in the oscars and golden globes), oscars and golden globe awards (amount of awards that the movie had in the oscars and the golden globes), release year, and IMDb score (score out of 10 that is calculated from the votes of registers IMDb users on the movie). This data can help us answer which factors contribute to a movie's success and popularity. We plan on utilizing the data on the movie title, running time, genre, budget, Oscars and Golden Globe nominations and awards, and IMDb scores to determine which factors affect the box office money from ticket sales the most significantly."
      ],
      "metadata": {
        "id": "ewaLLYP6hRdg"
      }
    },
    {
      "cell_type": "markdown",
      "source": [
        "**Collaboration Plan:** Our collaboration plan is for Rebecca to be responsible for the ETL section and for Raynah to be responsible for the EDA section of milestone 1. Together, we will make conclusions based on our findings and visualizations."
      ],
      "metadata": {
        "id": "rVkq8mMjhn33"
      }
    },
    {
      "cell_type": "markdown",
      "source": [
        "## ETL"
      ],
      "metadata": {
        "id": "GpwEJMaihrp5"
      }
    },
    {
      "cell_type": "markdown",
      "source": [
        "**What is this data?**\n",
        "This dataset contains information about movies including their financial performance (budget, box office earnings), roles (actors, director), critics (IMDb score, awards), and general details (running time, release year, genre)."
      ],
      "metadata": {
        "id": "Y80e7FN4hxye"
      }
    },
    {
      "cell_type": "markdown",
      "source": [
        "**How can it be used to answer the question?**\n",
        "We can determine whether certain factors, such as a certain genre, large budget, correlate with a movie's financial success in the box office and critical success in awards and IMDb scores."
      ],
      "metadata": {
        "id": "a8q29XmKh2kj"
      }
    },
    {
      "cell_type": "markdown",
      "source": [
        "**Where is the data from?**\n",
        "The data comes from Kaggle, an online community for data scientists and machine learners."
      ],
      "metadata": {
        "id": "_3_BHf8mh8qT"
      }
    },
    {
      "cell_type": "markdown",
      "source": [
        "**How is the data collected?**\n",
        "The data in this dataset has been collected from various public databases that provide access to IMDb information, Oscars/Golden Globe reports, box office earning accounts, and other various data sources on public files like GitHub, remote URLs, and Notebook output folders."
      ],
      "metadata": {
        "id": "g3MjuOMmh-O2"
      }
    },
    {
      "cell_type": "code",
      "source": [
        "# Tidy the dataset"
      ],
      "metadata": {
        "id": "uz7IL4R-iEl4"
      },
      "execution_count": null,
      "outputs": []
    },
    {
      "cell_type": "code",
      "source": [
        "# Set and display data types"
      ],
      "metadata": {
        "id": "-9mHwmCliNU-"
      },
      "execution_count": null,
      "outputs": []
    },
    {
      "cell_type": "markdown",
      "source": [
        "## EDA"
      ],
      "metadata": {
        "id": "c32KMVAbiGZA"
      }
    },
    {
      "cell_type": "markdown",
      "source": [
        "Interesting Statistic 1: correlation between box office earnings and budget\n",
        "Explanation:"
      ],
      "metadata": {
        "id": "ZwbOKdlbiIXQ"
      }
    },
    {
      "cell_type": "markdown",
      "source": [
        "Interesting Statistic 2: correlation between box office earnings and running time\n",
        "Explanation:"
      ],
      "metadata": {
        "id": "AvnPF5YLiRI9"
      }
    },
    {
      "cell_type": "markdown",
      "source": [
        "Interesting Statistic 3: correlation between box office earnings and genre\n",
        "Explanation:"
      ],
      "metadata": {
        "id": "7SMs2L__iSUw"
      }
    },
    {
      "cell_type": "code",
      "source": [
        "# Graphic that shows interesting property or distribution"
      ],
      "metadata": {
        "id": "poYzNo4siZeE"
      },
      "execution_count": null,
      "outputs": []
    },
    {
      "cell_type": "markdown",
      "source": [
        "Why is this graphic relevant?"
      ],
      "metadata": {
        "id": "hkzKvHV_ic-Y"
      }
    }
  ]
}