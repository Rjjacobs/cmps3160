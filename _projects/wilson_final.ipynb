{
 "cells": [
  {
   "cell_type": "markdown",
   "metadata": {
    "id": "ePEU4f2ULkCq"
   },
   "source": [
    "# Exploratory Analysis of The Gender Gap Index\n",
    "Jaclyn Wilson and Maygan Miguez\n",
    "\n",
    "[Link to our GitHub webpage](https://datasciencegendergapindex.github.io)"
   ]
  },
  {
   "cell_type": "markdown",
   "metadata": {
    "id": "WVUC7EdIvrrE"
   },
   "source": [
    "## Project Goals\n",
    "The goal of this project is to investigate and determine how the gender gap in terms of health, education, economics, and politics by country has changed over the past eight years. \n"
   ]
  },
  {
   "cell_type": "markdown",
   "metadata": {
    "id": "f9T9sXqVMAZd"
   },
   "source": [
    "## Project Dataset\n",
    "\n",
    "The dataset we are considering working with is [The Global Gender Gap Index](https://data.world/hdx/29f2f52f-a9c2-4ff9-a99e-42b894dc18e9). This data is collected from [The Humanitarian Data Exchange](https://data.humdata.org/dataset/global-gender-gap-index-world-economic-forum). The Global Gender Gap Index measures the relative gaps between women and men over a large set of countries across four key areas: health, education, economics and politics. In this dataset, the gender gap index score is on a 0-1 scale with 0 being complete inequality and 1 being complete equality. We are interested in this dataset because it describes an important aspect of gender equality, especially between different countries. We would like to examine gender inequality in terms of different countries and how inequality has changed over time.\n",
    "\n",
    "\n",
    "By examining each country we can also see how the four key areas - health, education, economics, and politics, influence the gender gap index. The ranks and scores of each of these areas are organized in the table-3b-detailed-rankings-2013-csv-2.csv by country. Because this data provides a score for each country individually every year, we can use this data to compare the trends from different countries and dive deeper into how these gender gap indexes are derived. We can also answer questions such as, what issues are most prevalent in the world? Furthermore, we can examine the data alongside other country-wide factor datasets such as datasets on each country’s predominant religion, government type, legislation, and social norms. Through this examination, we can answer questions such as what characteristics might contribute to each country’s gender gap score and how it has changed over time?\n",
    "\n",
    "\n",
    "While this dataset only supplies data from 2006-2013, we plan to scrape data for the years 2014-2021 from the annual Gender Gap Index Reports found at the [World Economic Forum’s website](https://www.weforum.org/reports/ab6795a1-960c-42b2-b3d5-587eccda6023). Doing so will enable us to make more accurate judgements about current gender equality measures and predict the direction it is going in the future. \n"
   ]
  },
  {
   "cell_type": "markdown",
   "metadata": {
    "id": "WNTBCcuY4K1p"
   },
   "source": [
    "##Collaboration Plan\n",
    "\n",
    "Our collaboration plan is to meet on zoom once a week to work on the final project. We have set up a google colab to work on our code together and make any updates. From now to November 16, we plan on scraping three Gender Gap Index Reports per week and creating necessary graphs for Milestone 2. From November 16 to December 9, we plan on developing our insights, visualizations, and presentation for the final project and presentation.\n"
   ]
  },
  {
   "cell_type": "markdown",
   "metadata": {
    "id": "7fAfBRqVNYkQ"
   },
   "source": [
    "## ETL (Extraction, Transform, and Load)\n",
    "\n",
    "We loaded two of four dataset .xlsx files included in [this dataset folder](https://data.world/hdx/29f2f52f-a9c2-4ff9-a99e-42b894dc18e9) from data.world. This dataset shows the year, country, each country’s gender equality ranking, and each country’s gender equality score out of 1. The original data columns listed the rankings and scores for each year as separate columns. We tidied the data by consolidating the ranking and scores as two columns. We also created a year column and set it as the index.\n"
   ]
  },
  {
   "cell_type": "markdown",
   "metadata": {
    "id": "g70XGze-OAx_"
   },
   "source": [
    "## Rank & Score by Year Data \n",
    "Using the data displayed below we will be able to group by year, country or both in order to visualize how the gender gap index has changed over time. This could include regression techniques to compare the trends."
   ]
  },
  {
   "cell_type": "code",
   "execution_count": null,
   "metadata": {
    "id": "e1T7KgGo64hI"
   },
   "outputs": [],
   "source": [
    "import pandas as pd\n",
    "gender_gap_df = pd.read_excel('https://query.data.world/s/ac54rh56yuptbuju6gxqpbviyq22jz')"
   ]
  },
  {
   "cell_type": "code",
   "execution_count": null,
   "metadata": {
    "colab": {
     "base_uri": "https://localhost:8080/",
     "height": 320
    },
    "id": "varDDD_R8RFp",
    "outputId": "8e49e8cf-e633-4135-a2bb-cf8c275bd457"
   },
   "outputs": [
    {
     "data": {
      "text/html": [
       "<div>\n",
       "<style scoped>\n",
       "    .dataframe tbody tr th:only-of-type {\n",
       "        vertical-align: middle;\n",
       "    }\n",
       "\n",
       "    .dataframe tbody tr th {\n",
       "        vertical-align: top;\n",
       "    }\n",
       "\n",
       "    .dataframe thead th {\n",
       "        text-align: right;\n",
       "    }\n",
       "</style>\n",
       "<table border=\"1\" class=\"dataframe\">\n",
       "  <thead>\n",
       "    <tr style=\"text-align: right;\">\n",
       "      <th></th>\n",
       "      <th>Country</th>\n",
       "      <th>ISO3</th>\n",
       "      <th>Rank</th>\n",
       "      <th>Score</th>\n",
       "    </tr>\n",
       "    <tr>\n",
       "      <th>Year</th>\n",
       "      <th></th>\n",
       "      <th></th>\n",
       "      <th></th>\n",
       "      <th></th>\n",
       "    </tr>\n",
       "  </thead>\n",
       "  <tbody>\n",
       "    <tr>\n",
       "      <th>2006</th>\n",
       "      <td>Yemen</td>\n",
       "      <td>YEM</td>\n",
       "      <td>115.0</td>\n",
       "      <td>0.4595</td>\n",
       "    </tr>\n",
       "    <tr>\n",
       "      <th>2006</th>\n",
       "      <td>Trinidad and Tobago</td>\n",
       "      <td>TTO</td>\n",
       "      <td>45.0</td>\n",
       "      <td>0.6797</td>\n",
       "    </tr>\n",
       "    <tr>\n",
       "      <th>2006</th>\n",
       "      <td>Panama</td>\n",
       "      <td>PAN</td>\n",
       "      <td>31.0</td>\n",
       "      <td>0.6935</td>\n",
       "    </tr>\n",
       "    <tr>\n",
       "      <th>2006</th>\n",
       "      <td>Slovenia</td>\n",
       "      <td>SVN</td>\n",
       "      <td>51.0</td>\n",
       "      <td>0.6745</td>\n",
       "    </tr>\n",
       "    <tr>\n",
       "      <th>2006</th>\n",
       "      <td>Malawi</td>\n",
       "      <td>MWI</td>\n",
       "      <td>81.0</td>\n",
       "      <td>0.6437</td>\n",
       "    </tr>\n",
       "  </tbody>\n",
       "</table>\n",
       "</div>"
      ],
      "text/plain": [
       "                  Country ISO3   Rank   Score\n",
       "Year                                         \n",
       "2006                Yemen  YEM  115.0  0.4595\n",
       "2006  Trinidad and Tobago  TTO   45.0  0.6797\n",
       "2006               Panama  PAN   31.0  0.6935\n",
       "2006             Slovenia  SVN   51.0  0.6745\n",
       "2006               Malawi  MWI   81.0  0.6437"
      ]
     },
     "metadata": {},
     "output_type": "display_data"
    },
    {
     "data": {
      "text/plain": [
       "Country     object\n",
       "ISO3        object\n",
       "Rank       float64\n",
       "Score      float64\n",
       "dtype: object"
      ]
     },
     "metadata": {},
     "output_type": "display_data"
    }
   ],
   "source": [
    "# Combine yearly ranks into one column & combine yearly scores into one column\n",
    "df1 = pd.melt(gender_gap_df, id_vars=['Country', 'ISO3'], value_vars=['2013 Rank', '2012 Rank', '2011 Rank', '2010 Rank', '2009 Rank', '2008 Rank', '2007 Rank', '2006 Rank'], var_name='Year', value_name='Rank')\n",
    "df2 = pd.melt(gender_gap_df, value_vars=['2013 Score', '2012 Score', '2011 Score', '2010 Score', '2009 Score', '2008 Score', '2007 Score', '2006 Score'], var_name='Year 2', value_name='Score')\n",
    "df3 = pd.concat([df1, df2],axis=1).sort_index(level=1)\n",
    "\n",
    "# Remove word 'rank' to get year for Year column\n",
    "df3['Year']= df3['Year'].str.replace(r'\\D+','', regex=True)\n",
    "\n",
    "# Drop unnecessary column\n",
    "df3 = df3.drop(['Year 2'], axis=1)\n",
    "\n",
    "# Set year as index and sort\n",
    "df3 = df3.set_index('Year').sort_index()\n",
    "display(df3.head())\n",
    "display(df3.dtypes)\n"
   ]
  },
  {
   "cell_type": "markdown",
   "metadata": {
    "id": "otbgMUl3aWf5"
   },
   "source": [
    "## 2013 Category Ranks & Scores Data\n",
    "The data displayed below shows the overall rank and score of each country for 2013. The ranks and scores are broken down into the different categories. We have uploaded this data so that we can compare health, education, economics, and politics ranks and scores of countries alongside other datasets about country characteristics."
   ]
  },
  {
   "cell_type": "code",
   "execution_count": null,
   "metadata": {
    "colab": {
     "base_uri": "https://localhost:8080/",
     "height": 459
    },
    "id": "pXPl2pGI1y2R",
    "outputId": "a7421a70-e20c-4d36-ec7c-ee89fb3bce8b"
   },
   "outputs": [
    {
     "data": {
      "text/html": [
       "<div>\n",
       "<style scoped>\n",
       "    .dataframe tbody tr th:only-of-type {\n",
       "        vertical-align: middle;\n",
       "    }\n",
       "\n",
       "    .dataframe tbody tr th {\n",
       "        vertical-align: top;\n",
       "    }\n",
       "\n",
       "    .dataframe thead th {\n",
       "        text-align: right;\n",
       "    }\n",
       "</style>\n",
       "<table border=\"1\" class=\"dataframe\">\n",
       "  <thead>\n",
       "    <tr style=\"text-align: right;\">\n",
       "      <th></th>\n",
       "      <th>Country</th>\n",
       "      <th>ISO3</th>\n",
       "      <th>Overall Rank</th>\n",
       "      <th>Overall Score</th>\n",
       "      <th>Economic Participation and Opportunity Rank</th>\n",
       "      <th>Economic Participation and Opportunity Score</th>\n",
       "      <th>Educational Attainment Rank</th>\n",
       "      <th>Educational Attainment Score</th>\n",
       "      <th>Health and Survival Rank</th>\n",
       "      <th>Health and Survival Score</th>\n",
       "      <th>Political Empowerment Rank</th>\n",
       "      <th>Political Empowerment Score</th>\n",
       "    </tr>\n",
       "  </thead>\n",
       "  <tbody>\n",
       "    <tr>\n",
       "      <th>0</th>\n",
       "      <td>Iceland</td>\n",
       "      <td>ISL</td>\n",
       "      <td>1</td>\n",
       "      <td>0.8731</td>\n",
       "      <td>22</td>\n",
       "      <td>0.7684</td>\n",
       "      <td>1</td>\n",
       "      <td>1.0000</td>\n",
       "      <td>97</td>\n",
       "      <td>0.9696</td>\n",
       "      <td>1</td>\n",
       "      <td>0.7544</td>\n",
       "    </tr>\n",
       "    <tr>\n",
       "      <th>1</th>\n",
       "      <td>Finland</td>\n",
       "      <td>FIN</td>\n",
       "      <td>2</td>\n",
       "      <td>0.8421</td>\n",
       "      <td>19</td>\n",
       "      <td>0.7727</td>\n",
       "      <td>1</td>\n",
       "      <td>1.0000</td>\n",
       "      <td>1</td>\n",
       "      <td>0.9796</td>\n",
       "      <td>2</td>\n",
       "      <td>0.6162</td>\n",
       "    </tr>\n",
       "    <tr>\n",
       "      <th>2</th>\n",
       "      <td>Norway</td>\n",
       "      <td>NOR</td>\n",
       "      <td>3</td>\n",
       "      <td>0.8417</td>\n",
       "      <td>1</td>\n",
       "      <td>0.8357</td>\n",
       "      <td>1</td>\n",
       "      <td>1.0000</td>\n",
       "      <td>93</td>\n",
       "      <td>0.9697</td>\n",
       "      <td>3</td>\n",
       "      <td>0.5616</td>\n",
       "    </tr>\n",
       "    <tr>\n",
       "      <th>3</th>\n",
       "      <td>Sweden</td>\n",
       "      <td>SWE</td>\n",
       "      <td>4</td>\n",
       "      <td>0.8129</td>\n",
       "      <td>14</td>\n",
       "      <td>0.7829</td>\n",
       "      <td>38</td>\n",
       "      <td>0.9977</td>\n",
       "      <td>69</td>\n",
       "      <td>0.9735</td>\n",
       "      <td>4</td>\n",
       "      <td>0.4976</td>\n",
       "    </tr>\n",
       "    <tr>\n",
       "      <th>4</th>\n",
       "      <td>Philippines</td>\n",
       "      <td>PHL</td>\n",
       "      <td>5</td>\n",
       "      <td>0.7832</td>\n",
       "      <td>16</td>\n",
       "      <td>0.7773</td>\n",
       "      <td>1</td>\n",
       "      <td>1.0000</td>\n",
       "      <td>1</td>\n",
       "      <td>0.9796</td>\n",
       "      <td>10</td>\n",
       "      <td>0.3760</td>\n",
       "    </tr>\n",
       "  </tbody>\n",
       "</table>\n",
       "</div>"
      ],
      "text/plain": [
       "       Country ISO3  ...  Political Empowerment Rank  Political Empowerment Score\n",
       "0      Iceland  ISL  ...                           1                       0.7544\n",
       "1      Finland  FIN  ...                           2                       0.6162\n",
       "2       Norway  NOR  ...                           3                       0.5616\n",
       "3       Sweden  SWE  ...                           4                       0.4976\n",
       "4  Philippines  PHL  ...                          10                       0.3760\n",
       "\n",
       "[5 rows x 12 columns]"
      ]
     },
     "metadata": {},
     "output_type": "display_data"
    },
    {
     "data": {
      "text/plain": [
       "Country                                          object\n",
       "ISO3                                             object\n",
       "Overall Rank                                      int64\n",
       "Overall Score                                   float64\n",
       "Economic Participation and Opportunity Rank       int64\n",
       "Economic Participation and Opportunity Score    float64\n",
       "Educational Attainment Rank                       int64\n",
       "Educational Attainment Score                    float64\n",
       "Health and Survival Rank                          int64\n",
       "Health and Survival Score                       float64\n",
       "Political Empowerment Rank                        int64\n",
       "Political Empowerment Score                     float64\n",
       "dtype: object"
      ]
     },
     "metadata": {},
     "output_type": "display_data"
    }
   ],
   "source": [
    "gender_gap_bygroups_df = pd.read_csv('https://query.data.world/s/pwtht6bojpu7qxkii2kvykxuejcfdg', encoding = \"ISO-8859-1\")\n",
    "display(gender_gap_bygroups_df.head())\n",
    "display(gender_gap_bygroups_df.dtypes)"
   ]
  }
 ],
 "metadata": {
  "colab": {
   "collapsed_sections": [],
   "name": "DataScience.ipynb",
   "provenance": []
  },
  "kernelspec": {
   "display_name": "Python 3",
   "language": "python",
   "name": "python3"
  },
  "language_info": {
   "codemirror_mode": {
    "name": "ipython",
    "version": 3
   },
   "file_extension": ".py",
   "mimetype": "text/x-python",
   "name": "python",
   "nbconvert_exporter": "python",
   "pygments_lexer": "ipython3",
   "version": "3.8.8"
  }
 },
 "nbformat": 4,
 "nbformat_minor": 1
}
